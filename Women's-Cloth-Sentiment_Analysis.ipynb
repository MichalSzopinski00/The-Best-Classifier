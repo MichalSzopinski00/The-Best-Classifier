{
 "cells": [
  {
   "cell_type": "markdown",
   "metadata": {
    "_cell_guid": "b1076dfc-b9ad-4769-8c92-a6c4dae69d19",
    "_uuid": "8f2839f25d086af736a60e9eeb907d3b93b6e0e5"
   },
   "source": [
    "# <a id=\"0\"></a> Contents\n",
    "1. [Importing Modules and Reading the Dataset](#1)\n",
    "1. [Adding the Word Counts to the Dataframe and Finding out How Many Times Some Words Were Used ](#2)\n",
    "1. [Finding the Most-Sold Pruduct Class](#3)\n",
    "1. [Building a Sentiment Classifier](#4)\n",
    "   1. [Logistic Regression ](#5)\n",
    "   1. [Naive Bayes](#6)\n",
    "   1. [Support Vector Machine (SVM)](#7)\n",
    "   1. [Neural Network](#8)\n",
    "1. [Evaluating Models](#9) \n",
    "   1. [Adding Results to the Dataframe](#10)\n",
    "   1. [ROC Curves and AUC](#11)\n",
    "1. [Conclusion](#12) "
   ]
  },
  {
   "cell_type": "markdown",
   "metadata": {
    "_uuid": "1d07c6dedfbe45292ad7614b414dbf29c14a9070"
   },
   "source": [
    "<img src=\"https://o.aolcdn.com/images/dims3/GLOB/crop/3481x1741+215+412/resize/630x315!/format/jpg/quality/85/http%3A%2F%2Fo.aolcdn.com%2Fhss%2Fstorage%2Fmidas%2F6a9e5dd26a5d23711860a4a67b8fc971%2F204872692%2Fljnqxfyn7am-shanna-camilleri.jpg\", height=\"10\" width=\"700\", title=\"source: imgur.com\"/>"
   ]
  },
  {
   "cell_type": "markdown",
   "metadata": {
    "_uuid": "5636cf459775f4c41e79a2117e7049d74f39488d"
   },
   "source": [
    "# <a id=\"1\"></a> Importing Modules and Reading the Dataset"
   ]
  },
  {
   "cell_type": "code",
   "execution_count": 48,
   "metadata": {
    "_cell_guid": "79c7e3d0-c299-4dcb-8224-4455121ee9b0",
    "_uuid": "d629ff2d2480ee46fbb7e2d37f6b5fab8052498a"
   },
   "outputs": [
    {
     "name": "stdout",
     "output_type": "stream",
     "text": [
      "Requirement already satisfied: WordCloud in c:\\users\\nancy\\anacondanew\\lib\\site-packages\n",
      "Requirement already satisfied: pillow in c:\\users\\nancy\\anacondanew\\lib\\site-packages (from WordCloud)\n",
      "Requirement already satisfied: numpy>=1.6.1 in c:\\users\\nancy\\anacondanew\\lib\\site-packages (from WordCloud)\n"
     ]
    },
    {
     "name": "stderr",
     "output_type": "stream",
     "text": [
      "You are using pip version 9.0.1, however version 18.1 is available.\n",
      "You should consider upgrading via the 'python -m pip install --upgrade pip' command.\n"
     ]
    },
    {
     "name": "stdout",
     "output_type": "stream",
     "text": [
      "Requirement already satisfied: plotly in c:\\users\\nancy\\anacondanew\\lib\\site-packages\n",
      "Requirement already satisfied: retrying>=1.3.3 in c:\\users\\nancy\\anacondanew\\lib\\site-packages (from plotly)\n",
      "Requirement already satisfied: pytz in c:\\users\\nancy\\anacondanew\\lib\\site-packages (from plotly)\n",
      "Requirement already satisfied: requests in c:\\users\\nancy\\anacondanew\\lib\\site-packages (from plotly)\n",
      "Requirement already satisfied: nbformat>=4.2 in c:\\users\\nancy\\anacondanew\\lib\\site-packages (from plotly)\n",
      "Requirement already satisfied: six in c:\\users\\nancy\\anacondanew\\lib\\site-packages (from plotly)\n",
      "Requirement already satisfied: decorator>=4.0.6 in c:\\users\\nancy\\anacondanew\\lib\\site-packages (from plotly)\n",
      "Requirement already satisfied: chardet<3.1.0,>=3.0.2 in c:\\users\\nancy\\anacondanew\\lib\\site-packages (from requests->plotly)\n",
      "Requirement already satisfied: idna<2.7,>=2.5 in c:\\users\\nancy\\anacondanew\\lib\\site-packages (from requests->plotly)\n",
      "Requirement already satisfied: urllib3<1.23,>=1.21.1 in c:\\users\\nancy\\anacondanew\\lib\\site-packages (from requests->plotly)\n",
      "Requirement already satisfied: certifi>=2017.4.17 in c:\\users\\nancy\\anacondanew\\lib\\site-packages (from requests->plotly)\n",
      "Requirement already satisfied: ipython_genutils in c:\\users\\nancy\\anacondanew\\lib\\site-packages (from nbformat>=4.2->plotly)\n",
      "Requirement already satisfied: traitlets>=4.1 in c:\\users\\nancy\\anacondanew\\lib\\site-packages (from nbformat>=4.2->plotly)\n",
      "Requirement already satisfied: jsonschema!=2.5.0,>=2.4 in c:\\users\\nancy\\anacondanew\\lib\\site-packages (from nbformat>=4.2->plotly)\n",
      "Requirement already satisfied: jupyter_core in c:\\users\\nancy\\anacondanew\\lib\\site-packages (from nbformat>=4.2->plotly)\n"
     ]
    },
    {
     "name": "stderr",
     "output_type": "stream",
     "text": [
      "You are using pip version 9.0.1, however version 18.1 is available.\n",
      "You should consider upgrading via the 'python -m pip install --upgrade pip' command.\n"
     ]
    },
    {
     "data": {
      "text/html": [
       "<script>requirejs.config({paths: { 'plotly': ['https://cdn.plot.ly/plotly-latest.min']},});if(!window.Plotly) {{require(['plotly'],function(plotly) {window.Plotly=plotly;});}}</script>"
      ],
      "text/vnd.plotly.v1+html": [
       "<script>requirejs.config({paths: { 'plotly': ['https://cdn.plot.ly/plotly-latest.min']},});if(!window.Plotly) {{require(['plotly'],function(plotly) {window.Plotly=plotly;});}}</script>"
      ]
     },
     "metadata": {},
     "output_type": "display_data"
    }
   ],
   "source": [
    "!pip install WordCloud\n",
    "!pip install plotly\n",
    "import pandas as pd\n",
    "import numpy as np\n",
    "import matplotlib.pyplot as plt\n",
    "from wordcloud import WordCloud\n",
    "import seaborn as sns\n",
    "from sklearn.feature_extraction.text import CountVectorizer\n",
    "from sklearn.model_selection import train_test_split\n",
    "from sklearn.linear_model import LogisticRegression\n",
    "from sklearn.naive_bayes import MultinomialNB\n",
    "from sklearn.metrics import roc_curve, auc\n",
    "from sklearn.neural_network import MLPClassifier\n",
    "from sklearn.svm import SVC\n",
    "from plotly import tools\n",
    "import plotly.offline as py\n",
    "py.init_notebook_mode(connected=True)\n",
    "import plotly.graph_objs as go\n",
    "%matplotlib inline\n"
   ]
  },
  {
   "cell_type": "code",
   "execution_count": 49,
   "metadata": {},
   "outputs": [
    {
     "data": {
      "text/html": [
       "<div>\n",
       "<style scoped>\n",
       "    .dataframe tbody tr th:only-of-type {\n",
       "        vertical-align: middle;\n",
       "    }\n",
       "\n",
       "    .dataframe tbody tr th {\n",
       "        vertical-align: top;\n",
       "    }\n",
       "\n",
       "    .dataframe thead th {\n",
       "        text-align: right;\n",
       "    }\n",
       "</style>\n",
       "<table border=\"1\" class=\"dataframe\">\n",
       "  <thead>\n",
       "    <tr style=\"text-align: right;\">\n",
       "      <th></th>\n",
       "      <th>Review Text</th>\n",
       "      <th>Rating</th>\n",
       "      <th>Class Name</th>\n",
       "      <th>Age</th>\n",
       "    </tr>\n",
       "  </thead>\n",
       "  <tbody>\n",
       "    <tr>\n",
       "      <th>0</th>\n",
       "      <td>Absolutely wonderful - silky and sexy and comf...</td>\n",
       "      <td>4</td>\n",
       "      <td>Intimates</td>\n",
       "      <td>33</td>\n",
       "    </tr>\n",
       "    <tr>\n",
       "      <th>1</th>\n",
       "      <td>Love this dress!  it's sooo pretty.  i happene...</td>\n",
       "      <td>5</td>\n",
       "      <td>Dresses</td>\n",
       "      <td>34</td>\n",
       "    </tr>\n",
       "    <tr>\n",
       "      <th>2</th>\n",
       "      <td>I had such high hopes for this dress and reall...</td>\n",
       "      <td>3</td>\n",
       "      <td>Dresses</td>\n",
       "      <td>60</td>\n",
       "    </tr>\n",
       "    <tr>\n",
       "      <th>3</th>\n",
       "      <td>I love, love, love this jumpsuit. it's fun, fl...</td>\n",
       "      <td>5</td>\n",
       "      <td>Pants</td>\n",
       "      <td>50</td>\n",
       "    </tr>\n",
       "    <tr>\n",
       "      <th>4</th>\n",
       "      <td>This shirt is very flattering to all due to th...</td>\n",
       "      <td>5</td>\n",
       "      <td>Blouses</td>\n",
       "      <td>47</td>\n",
       "    </tr>\n",
       "  </tbody>\n",
       "</table>\n",
       "</div>"
      ],
      "text/plain": [
       "                                         Review Text  Rating Class Name  Age\n",
       "0  Absolutely wonderful - silky and sexy and comf...       4  Intimates   33\n",
       "1  Love this dress!  it's sooo pretty.  i happene...       5    Dresses   34\n",
       "2  I had such high hopes for this dress and reall...       3    Dresses   60\n",
       "3  I love, love, love this jumpsuit. it's fun, fl...       5      Pants   50\n",
       "4  This shirt is very flattering to all due to th...       5    Blouses   47"
      ]
     },
     "execution_count": 49,
     "metadata": {},
     "output_type": "execute_result"
    }
   ],
   "source": [
    "# Reading Data \n",
    "df1 = pd.read_csv('C:/Users/Nancy/Downloads/womens-ecommerce-clothing-reviews/Womens Clothing E-Commerce Reviews.csv')\n",
    "df = df1[['Review Text','Rating','Class Name','Age']]\n",
    "#df.info()\n",
    "#df.describe()\n",
    "df.head()"
   ]
  },
  {
   "cell_type": "markdown",
   "metadata": {
    "_uuid": "b3e18f15da8f15842316c82e248a8d8752e5fcba"
   },
   "source": [
    "# <a id=\"2\"></a> Adding the Word Counts to the Dataframe and Finding out How Many Times Some Words Were Used \n"
   ]
  },
  {
   "cell_type": "code",
   "execution_count": 50,
   "metadata": {
    "_uuid": "1cda9ceace361f152f30fa199f021528d0f9f2b7"
   },
   "outputs": [
    {
     "name": "stderr",
     "output_type": "stream",
     "text": [
      "C:\\Users\\Nancy\\AnacondaNew\\lib\\site-packages\\ipykernel_launcher.py:2: SettingWithCopyWarning:\n",
      "\n",
      "\n",
      "A value is trying to be set on a copy of a slice from a DataFrame.\n",
      "Try using .loc[row_indexer,col_indexer] = value instead\n",
      "\n",
      "See the caveats in the documentation: http://pandas.pydata.org/pandas-docs/stable/indexing.html#indexing-view-versus-copy\n",
      "\n",
      "C:\\Users\\Nancy\\AnacondaNew\\lib\\site-packages\\ipykernel_launcher.py:18: SettingWithCopyWarning:\n",
      "\n",
      "\n",
      "A value is trying to be set on a copy of a slice from a DataFrame.\n",
      "Try using .loc[row_indexer,col_indexer] = value instead\n",
      "\n",
      "See the caveats in the documentation: http://pandas.pydata.org/pandas-docs/stable/indexing.html#indexing-view-versus-copy\n",
      "\n"
     ]
    },
    {
     "data": {
      "text/html": [
       "<div>\n",
       "<style scoped>\n",
       "    .dataframe tbody tr th:only-of-type {\n",
       "        vertical-align: middle;\n",
       "    }\n",
       "\n",
       "    .dataframe tbody tr th {\n",
       "        vertical-align: top;\n",
       "    }\n",
       "\n",
       "    .dataframe thead th {\n",
       "        text-align: right;\n",
       "    }\n",
       "</style>\n",
       "<table border=\"1\" class=\"dataframe\">\n",
       "  <thead>\n",
       "    <tr style=\"text-align: right;\">\n",
       "      <th></th>\n",
       "      <th>Review Text</th>\n",
       "      <th>Rating</th>\n",
       "      <th>Class Name</th>\n",
       "      <th>Age</th>\n",
       "      <th>Word Counts</th>\n",
       "    </tr>\n",
       "  </thead>\n",
       "  <tbody>\n",
       "    <tr>\n",
       "      <th>0</th>\n",
       "      <td>Absolutely wonderful - silky and sexy and comf...</td>\n",
       "      <td>4</td>\n",
       "      <td>Intimates</td>\n",
       "      <td>33</td>\n",
       "      <td>{'absolutely': 1, 'and': 2, 'comfortable': 1, ...</td>\n",
       "    </tr>\n",
       "    <tr>\n",
       "      <th>1</th>\n",
       "      <td>Love this dress!  it's sooo pretty.  i happene...</td>\n",
       "      <td>5</td>\n",
       "      <td>Dresses</td>\n",
       "      <td>34</td>\n",
       "      <td>{'am': 1, 'and': 2, 'bc': 2, 'be': 1, 'below':...</td>\n",
       "    </tr>\n",
       "    <tr>\n",
       "      <th>2</th>\n",
       "      <td>I had such high hopes for this dress and reall...</td>\n",
       "      <td>3</td>\n",
       "      <td>Dresses</td>\n",
       "      <td>60</td>\n",
       "      <td>{'and': 3, 'be': 1, 'bottom': 1, 'but': 2, 'ch...</td>\n",
       "    </tr>\n",
       "    <tr>\n",
       "      <th>3</th>\n",
       "      <td>I love, love, love this jumpsuit. it's fun, fl...</td>\n",
       "      <td>5</td>\n",
       "      <td>Pants</td>\n",
       "      <td>50</td>\n",
       "      <td>{'and': 1, 'but': 1, 'compliments': 1, 'every'...</td>\n",
       "    </tr>\n",
       "    <tr>\n",
       "      <th>4</th>\n",
       "      <td>This shirt is very flattering to all due to th...</td>\n",
       "      <td>5</td>\n",
       "      <td>Blouses</td>\n",
       "      <td>47</td>\n",
       "      <td>{'adjustable': 1, 'all': 1, 'and': 1, 'any': 1...</td>\n",
       "    </tr>\n",
       "  </tbody>\n",
       "</table>\n",
       "</div>"
      ],
      "text/plain": [
       "                                         Review Text  Rating Class Name  Age  \\\n",
       "0  Absolutely wonderful - silky and sexy and comf...       4  Intimates   33   \n",
       "1  Love this dress!  it's sooo pretty.  i happene...       5    Dresses   34   \n",
       "2  I had such high hopes for this dress and reall...       3    Dresses   60   \n",
       "3  I love, love, love this jumpsuit. it's fun, fl...       5      Pants   50   \n",
       "4  This shirt is very flattering to all due to th...       5    Blouses   47   \n",
       "\n",
       "                                         Word Counts  \n",
       "0  {'absolutely': 1, 'and': 2, 'comfortable': 1, ...  \n",
       "1  {'am': 1, 'and': 2, 'bc': 2, 'be': 1, 'below':...  \n",
       "2  {'and': 3, 'be': 1, 'bottom': 1, 'but': 2, 'ch...  \n",
       "3  {'and': 1, 'but': 1, 'compliments': 1, 'every'...  \n",
       "4  {'adjustable': 1, 'all': 1, 'and': 1, 'any': 1...  "
      ]
     },
     "execution_count": 50,
     "metadata": {},
     "output_type": "execute_result"
    }
   ],
   "source": [
    "#set(df['Review Tex'])\n",
    "df['Review Text'] = df['Review Text'].fillna('')\n",
    "vectorizer = CountVectorizer()\n",
    "analyzer = vectorizer.build_analyzer()\n",
    "\n",
    "def WordCounts(s):\n",
    "    c = {}\n",
    "    if analyzer(s):\n",
    "        d = {}\n",
    "        w = vectorizer.fit_transform([s]).toarray()\n",
    "        vc = vectorizer.vocabulary_\n",
    "        for k,v in vc.items():\n",
    "            d[v]=k\n",
    "        for index,i in enumerate(w[0]):\n",
    "            c[d[index]] = i\n",
    "    return  c\n",
    "\n",
    "df['Word Counts'] = df['Review Text'].apply(WordCounts)\n",
    "df.head()"
   ]
  },
  {
   "cell_type": "code",
   "execution_count": 51,
   "metadata": {
    "_uuid": "ddd45a2082a6a6a70642ec16fca3f4b355da1285"
   },
   "outputs": [
    {
     "name": "stdout",
     "output_type": "stream",
     "text": [
      "love     8951\n",
      "great    6117\n",
      "super    1726\n",
      "happy     705\n",
      "glad      614\n",
      "dtype: int64\n"
     ]
    },
    {
     "data": {
      "image/png": "[encoded data removed]",
      "text/plain": [
       "<matplotlib.figure.Figure at 0x183f865bf98>"
      ]
     },
     "metadata": {},
     "output_type": "display_data"
    }
   ],
   "source": [
    "SelectedWords = ['awesome','great','fantastic','extraordinary','amazing','super','magnificent',\n",
    "                 'stunning','impressive','wonderful','breathtaking','love','content','pleased',\n",
    "                 'happy','glad','satisfied','lucky','shocking','cheerful','wow','sad','unhappy',\n",
    "                 'horrible','regret','bad','terrible','annoyed','disappointed','upset','awful',\n",
    "                 'hate']\n",
    "\n",
    "def SelectedCount(dic,word):\n",
    "    if word in dic:\n",
    "        return dic[word]\n",
    "    else:\n",
    "        return 0\n",
    "    \n",
    "dfwc = df.copy()  \n",
    "for word in SelectedWords:\n",
    "    dfwc[word] = dfwc['Word Counts'].apply(SelectedCount,args=(word,))\n",
    "    \n",
    "word_sum = dfwc[SelectedWords].sum() \n",
    "print(word_sum.sort_values(ascending=False).iloc[:5])\n",
    "\n",
    "plt.subplots(figsize=(14,7))\n",
    "wc = WordCloud(background_color='white',\n",
    "                      width=512,\n",
    "                      height=384 ).generate_from_frequencies(word_sum)\n",
    "plt.imshow(wc)\n",
    "plt.axis('off')\n",
    "plt.savefig('graph1.png')\n",
    "plt.show()"
   ]
  },
  {
   "cell_type": "markdown",
   "metadata": {
    "_uuid": "689e7afccfa6b40ab15f8981eb1dc11b0febcabc"
   },
   "source": [
    "# <a id=\"3\"></a>  Finding the Most-Sold Pruduct Class"
   ]
  },
  {
   "cell_type": "code",
   "execution_count": 52,
   "metadata": {
    "_uuid": "039bf2d8bcb72b8865a346a694993dae25f13d9e"
   },
   "outputs": [
    {
     "name": "stdout",
     "output_type": "stream",
     "text": [
      "Dresses     6319\n",
      "Knits       4843\n",
      "Blouses     3097\n",
      "Sweaters    1428\n",
      "Pants       1388\n",
      "Name: Class Name, dtype: int64\n"
     ]
    },
    {
     "data": {
      "image/png": "[encoded data removed]",
      "text/plain": [
       "<matplotlib.figure.Figure at 0x1839260d550>"
      ]
     },
     "metadata": {},
     "output_type": "display_data"
    }
   ],
   "source": [
    "print(df['Class Name'].value_counts().iloc[:5])\n",
    "\n",
    "cn = df['Class Name']\n",
    "plt.subplots(figsize=(14,7))\n",
    "wordcloud = WordCloud(background_color='white',\n",
    "                      width=512,\n",
    "                      height=384 \n",
    "                     ).generate(\" \".join(str(c) for c in cn))\n",
    "plt.imshow(wordcloud)\n",
    "plt.axis('off')\n",
    "plt.savefig('graph2.png')\n",
    "plt.show()"
   ]
  },
  {
   "cell_type": "markdown",
   "metadata": {
    "_uuid": "a3f7f0b362d9171cce9eef2f32f1c6ca7d4a74f2"
   },
   "source": [
    " # <a id=\"4\"></a> Building a Sentiment Classifier\n"
   ]
  },
  {
   "cell_type": "code",
   "execution_count": 53,
   "metadata": {
    "_uuid": "6f4a2b818be0f6364e6bec4cebf94ba13a869432"
   },
   "outputs": [
    {
     "name": "stdout",
     "output_type": "stream",
     "text": [
      "This is the format of your plot grid:\n",
      "[ (1,1) x1,y1 ]  [ (1,2) x2,y2 ]\n",
      "[ (2,1) x3,y3 ]  [ (2,2) x4,y4 ]\n",
      "\n"
     ]
    },
    {
     "data": {
      "application/vnd.plotly.v1+json": {
       "data": [
        {
         "marker": {
          "color": [
           4.154020019373587,
           4.5,
           4,
           4.150815002373793,
           4.260909090909091,
           4.279220779220779,
           4.295454545454546,
           4.360941586748038,
           4.161676646706587,
           4.376712328767123,
           4.278787878787878,
           4.301013024602026,
           4.198170731707317,
           4.265850144092219,
           4.255520504731861,
           4.245502645502645,
           4.285087719298246,
           4.179271708683474,
           4.1971428571428575,
           3.8151260504201683
          ],
          "colorscale": "RdBu"
         },
         "type": "bar",
         "uid": "44542846-d357-11e8-9c23-441ca89a596a",
         "x": [
          "Blouses",
          "Casual bottoms",
          "Chemises",
          "Dresses",
          "Fine gauge",
          "Intimates",
          "Jackets",
          "Jeans",
          "Knits",
          "Layering",
          "Legwear",
          "Lounge",
          "Outerwear",
          "Pants",
          "Shorts",
          "Skirts",
          "Sleep",
          "Sweaters",
          "Swim",
          "Trend"
         ],
         "xaxis": "x",
         "y": [
          4.15,
          4.5,
          4,
          4.15,
          4.26,
          4.28,
          4.3,
          4.36,
          4.16,
          4.38,
          4.28,
          4.3,
          4.2,
          4.27,
          4.26,
          4.25,
          4.29,
          4.18,
          4.2,
          3.82
         ],
         "yaxis": "y"
        },
        {
         "marker": {
          "color": [
           13131,
           5077,
           2871,
           1565,
           842
          ],
          "colorscale": "RdBu"
         },
         "type": "bar",
         "uid": "4454eb7a-d357-11e8-ad81-441ca89a596a",
         "x": [
          5,
          4,
          3,
          2,
          1
         ],
         "xaxis": "x2",
         "y": [
          13131,
          5077,
          2871,
          1565,
          842
         ],
         "yaxis": "y2"
        },
        {
         "marker": {
          "color": [
           44.252502421698416,
           26.5,
           38,
           42.11489159677164,
           44.730909090909094,
           39.15584415584416,
           43.81392045454545,
           43.115954664341764,
           43.63080735081561,
           41.52739726027397,
           41.54545454545455,
           42.7178002894356,
           44.28658536585366,
           44.04755043227666,
           40.72870662460568,
           42.492063492063494,
           43.10087719298246,
           45.06442577030813,
           38.04857142857143,
           44.05882352941177
          ],
          "colorscale": "RdBu"
         },
         "type": "bar",
         "uid": "44564aca-d357-11e8-ab13-441ca89a596a",
         "x": [
          "Blouses",
          "Casual bottoms",
          "Chemises",
          "Dresses",
          "Fine gauge",
          "Intimates",
          "Jackets",
          "Jeans",
          "Knits",
          "Layering",
          "Legwear",
          "Lounge",
          "Outerwear",
          "Pants",
          "Shorts",
          "Skirts",
          "Sleep",
          "Sweaters",
          "Swim",
          "Trend"
         ],
         "xaxis": "x3",
         "y": [
          44.25,
          26.5,
          38,
          42.11,
          44.73,
          39.16,
          43.81,
          43.12,
          43.63,
          41.53,
          41.55,
          42.72,
          44.29,
          44.05,
          40.73,
          42.49,
          43.1,
          45.06,
          38.05,
          44.06
         ],
         "yaxis": "y3"
        },
        {
         "marker": {
          "color": [
           43.69358669833729,
           42.6223642172524,
           42.15848136537792,
           42.887532007090805,
           43.583123905262354
          ],
          "colorscale": "Reds"
         },
         "type": "bar",
         "uid": "44575c14-d357-11e8-adb6-441ca89a596a",
         "x": [
          1,
          2,
          3,
          4,
          5
         ],
         "xaxis": "x4",
         "y": [
          43.69,
          42.62,
          42.16,
          42.89,
          43.58
         ],
         "yaxis": "y4"
        }
       ],
       "layout": {
        "height": 800,
        "showlegend": false,
        "width": 900,
        "xaxis": {
         "anchor": "y",
         "domain": [
          0,
          0.45
         ],
         "title": "Class"
        },
        "xaxis2": {
         "anchor": "y2",
         "domain": [
          0.55,
          1
         ],
         "title": "Rating"
        },
        "xaxis3": {
         "anchor": "y3",
         "domain": [
          0,
          0.45
         ],
         "title": "Class"
        },
        "xaxis4": {
         "anchor": "y4",
         "domain": [
          0.55,
          1
         ],
         "title": "Rating"
        },
        "yaxis": {
         "anchor": "x",
         "domain": [
          0.575,
          1
         ],
         "title": "Average Rating"
        },
        "yaxis2": {
         "anchor": "x2",
         "domain": [
          0.575,
          1
         ],
         "title": "Count"
        },
        "yaxis3": {
         "anchor": "x3",
         "domain": [
          0,
          0.425
         ],
         "title": "Average Age of the Reviewers"
        },
        "yaxis4": {
         "anchor": "x4",
         "domain": [
          0,
          0.425
         ],
         "title": "Average Age of the Reviewers"
        }
       }
      },
      "text/html": [
       "<div id=\"dcd9b623-8331-48f8-97a2-cabbf0a4df79\" style=\"height: 800px; width: 900px;\" class=\"plotly-graph-div\"></div><script type=\"text/javascript\">require([\"plotly\"], function(Plotly) { window.PLOTLYENV=window.PLOTLYENV || {};window.PLOTLYENV.BASE_URL=\"https://plot.ly\";Plotly.newPlot(\"dcd9b623-8331-48f8-97a2-cabbf0a4df79\", [{\"marker\": {\"color\": [4.154020019373587, 4.5, 4.0, 4.150815002373793, 4.260909090909091, 4.279220779220779, 4.295454545454546, 4.360941586748038, 4.161676646706587, 4.376712328767123, 4.278787878787878, 4.301013024602026, 4.198170731707317, 4.265850144092219, 4.255520504731861, 4.245502645502645, 4.285087719298246, 4.179271708683474, 4.1971428571428575, 3.8151260504201683], \"colorscale\": \"RdBu\"}, \"x\": [\"Blouses\", \"Casual bottoms\", \"Chemises\", \"Dresses\", \"Fine gauge\", \"Intimates\", \"Jackets\", \"Jeans\", \"Knits\", \"Layering\", \"Legwear\", \"Lounge\", \"Outerwear\", \"Pants\", \"Shorts\", \"Skirts\", \"Sleep\", \"Sweaters\", \"Swim\", \"Trend\"], \"y\": [4.15, 4.5, 4.0, 4.15, 4.26, 4.28, 4.3, 4.36, 4.16, 4.38, 4.28, 4.3, 4.2, 4.27, 4.26, 4.25, 4.29, 4.18, 4.2, 3.82], \"type\": \"bar\", \"uid\": \"44542846-d357-11e8-9c23-441ca89a596a\", \"xaxis\": \"x\", \"yaxis\": \"y\"}, {\"marker\": {\"color\": [13131, 5077, 2871, 1565, 842], \"colorscale\": \"RdBu\"}, \"x\": [5, 4, 3, 2, 1], \"y\": [13131, 5077, 2871, 1565, 842], \"type\": \"bar\", \"uid\": \"4454eb7a-d357-11e8-ad81-441ca89a596a\", \"xaxis\": \"x2\", \"yaxis\": \"y2\"}, {\"marker\": {\"color\": [44.252502421698416, 26.5, 38.0, 42.11489159677164, 44.730909090909094, 39.15584415584416, 43.81392045454545, 43.115954664341764, 43.63080735081561, 41.52739726027397, 41.54545454545455, 42.7178002894356, 44.28658536585366, 44.04755043227666, 40.72870662460568, 42.492063492063494, 43.10087719298246, 45.06442577030813, 38.04857142857143, 44.05882352941177], \"colorscale\": \"RdBu\"}, \"x\": [\"Blouses\", \"Casual bottoms\", \"Chemises\", \"Dresses\", \"Fine gauge\", \"Intimates\", \"Jackets\", \"Jeans\", \"Knits\", \"Layering\", \"Legwear\", \"Lounge\", \"Outerwear\", \"Pants\", \"Shorts\", \"Skirts\", \"Sleep\", \"Sweaters\", \"Swim\", \"Trend\"], \"y\": [44.25, 26.5, 38.0, 42.11, 44.73, 39.16, 43.81, 43.12, 43.63, 41.53, 41.55, 42.72, 44.29, 44.05, 40.73, 42.49, 43.1, 45.06, 38.05, 44.06], \"type\": \"bar\", \"uid\": \"44564aca-d357-11e8-ab13-441ca89a596a\", \"xaxis\": \"x3\", \"yaxis\": \"y3\"}, {\"marker\": {\"color\": [43.69358669833729, 42.6223642172524, 42.15848136537792, 42.887532007090805, 43.583123905262354], \"colorscale\": \"Reds\"}, \"x\": [1, 2, 3, 4, 5], \"y\": [43.69, 42.62, 42.16, 42.89, 43.58], \"type\": \"bar\", \"uid\": \"44575c14-d357-11e8-adb6-441ca89a596a\", \"xaxis\": \"x4\", \"yaxis\": \"y4\"}], {\"xaxis\": {\"anchor\": \"y\", \"domain\": [0.0, 0.45], \"title\": \"Class\"}, \"yaxis\": {\"anchor\": \"x\", \"domain\": [0.575, 1.0], \"title\": \"Average Rating\"}, \"xaxis2\": {\"anchor\": \"y2\", \"domain\": [0.55, 1.0], \"title\": \"Rating\"}, \"yaxis2\": {\"anchor\": \"x2\", \"domain\": [0.575, 1.0], \"title\": \"Count\"}, \"xaxis3\": {\"anchor\": \"y3\", \"domain\": [0.0, 0.45], \"title\": \"Class\"}, \"yaxis3\": {\"anchor\": \"x3\", \"domain\": [0.0, 0.425], \"title\": \"Average Age of the Reviewers\"}, \"xaxis4\": {\"anchor\": \"y4\", \"domain\": [0.55, 1.0], \"title\": \"Rating\"}, \"yaxis4\": {\"anchor\": \"x4\", \"domain\": [0.0, 0.425], \"title\": \"Average Age of the Reviewers\"}, \"height\": 800, \"width\": 900, \"showlegend\": false}, {\"showLink\": true, \"linkText\": \"Export to plot.ly\"})});</script>"
      ],
      "text/vnd.plotly.v1+html": [
       "<div id=\"dcd9b623-8331-48f8-97a2-cabbf0a4df79\" style=\"height: 800px; width: 900px;\" class=\"plotly-graph-div\"></div><script type=\"text/javascript\">require([\"plotly\"], function(Plotly) { window.PLOTLYENV=window.PLOTLYENV || {};window.PLOTLYENV.BASE_URL=\"https://plot.ly\";Plotly.newPlot(\"dcd9b623-8331-48f8-97a2-cabbf0a4df79\", [{\"marker\": {\"color\": [4.154020019373587, 4.5, 4.0, 4.150815002373793, 4.260909090909091, 4.279220779220779, 4.295454545454546, 4.360941586748038, 4.161676646706587, 4.376712328767123, 4.278787878787878, 4.301013024602026, 4.198170731707317, 4.265850144092219, 4.255520504731861, 4.245502645502645, 4.285087719298246, 4.179271708683474, 4.1971428571428575, 3.8151260504201683], \"colorscale\": \"RdBu\"}, \"x\": [\"Blouses\", \"Casual bottoms\", \"Chemises\", \"Dresses\", \"Fine gauge\", \"Intimates\", \"Jackets\", \"Jeans\", \"Knits\", \"Layering\", \"Legwear\", \"Lounge\", \"Outerwear\", \"Pants\", \"Shorts\", \"Skirts\", \"Sleep\", \"Sweaters\", \"Swim\", \"Trend\"], \"y\": [4.15, 4.5, 4.0, 4.15, 4.26, 4.28, 4.3, 4.36, 4.16, 4.38, 4.28, 4.3, 4.2, 4.27, 4.26, 4.25, 4.29, 4.18, 4.2, 3.82], \"type\": \"bar\", \"uid\": \"44542846-d357-11e8-9c23-441ca89a596a\", \"xaxis\": \"x\", \"yaxis\": \"y\"}, {\"marker\": {\"color\": [13131, 5077, 2871, 1565, 842], \"colorscale\": \"RdBu\"}, \"x\": [5, 4, 3, 2, 1], \"y\": [13131, 5077, 2871, 1565, 842], \"type\": \"bar\", \"uid\": \"4454eb7a-d357-11e8-ad81-441ca89a596a\", \"xaxis\": \"x2\", \"yaxis\": \"y2\"}, {\"marker\": {\"color\": [44.252502421698416, 26.5, 38.0, 42.11489159677164, 44.730909090909094, 39.15584415584416, 43.81392045454545, 43.115954664341764, 43.63080735081561, 41.52739726027397, 41.54545454545455, 42.7178002894356, 44.28658536585366, 44.04755043227666, 40.72870662460568, 42.492063492063494, 43.10087719298246, 45.06442577030813, 38.04857142857143, 44.05882352941177], \"colorscale\": \"RdBu\"}, \"x\": [\"Blouses\", \"Casual bottoms\", \"Chemises\", \"Dresses\", \"Fine gauge\", \"Intimates\", \"Jackets\", \"Jeans\", \"Knits\", \"Layering\", \"Legwear\", \"Lounge\", \"Outerwear\", \"Pants\", \"Shorts\", \"Skirts\", \"Sleep\", \"Sweaters\", \"Swim\", \"Trend\"], \"y\": [44.25, 26.5, 38.0, 42.11, 44.73, 39.16, 43.81, 43.12, 43.63, 41.53, 41.55, 42.72, 44.29, 44.05, 40.73, 42.49, 43.1, 45.06, 38.05, 44.06], \"type\": \"bar\", \"uid\": \"44564aca-d357-11e8-ab13-441ca89a596a\", \"xaxis\": \"x3\", \"yaxis\": \"y3\"}, {\"marker\": {\"color\": [43.69358669833729, 42.6223642172524, 42.15848136537792, 42.887532007090805, 43.583123905262354], \"colorscale\": \"Reds\"}, \"x\": [1, 2, 3, 4, 5], \"y\": [43.69, 42.62, 42.16, 42.89, 43.58], \"type\": \"bar\", \"uid\": \"44575c14-d357-11e8-adb6-441ca89a596a\", \"xaxis\": \"x4\", \"yaxis\": \"y4\"}], {\"xaxis\": {\"anchor\": \"y\", \"domain\": [0.0, 0.45], \"title\": \"Class\"}, \"yaxis\": {\"anchor\": \"x\", \"domain\": [0.575, 1.0], \"title\": \"Average Rating\"}, \"xaxis2\": {\"anchor\": \"y2\", \"domain\": [0.55, 1.0], \"title\": \"Rating\"}, \"yaxis2\": {\"anchor\": \"x2\", \"domain\": [0.575, 1.0], \"title\": \"Count\"}, \"xaxis3\": {\"anchor\": \"y3\", \"domain\": [0.0, 0.45], \"title\": \"Class\"}, \"yaxis3\": {\"anchor\": \"x3\", \"domain\": [0.0, 0.425], \"title\": \"Average Age of the Reviewers\"}, \"xaxis4\": {\"anchor\": \"y4\", \"domain\": [0.55, 1.0], \"title\": \"Rating\"}, \"yaxis4\": {\"anchor\": \"x4\", \"domain\": [0.0, 0.425], \"title\": \"Average Age of the Reviewers\"}, \"height\": 800, \"width\": 900, \"showlegend\": false}, {\"showLink\": true, \"linkText\": \"Export to plot.ly\"})});</script>"
      ]
     },
     "metadata": {},
     "output_type": "display_data"
    }
   ],
   "source": [
    "df1=df['Rating'].value_counts().to_frame()\n",
    "avgdf1 = df.groupby('Class Name').agg({'Rating': np.average})\n",
    "avgdf2 = df.groupby('Class Name').agg({'Age': np.average})\n",
    "avgdf3 = df.groupby('Rating').agg({'Age': np.average})\n",
    "\n",
    "trace1 = go.Bar(\n",
    "    x=avgdf1.index,\n",
    "    y=round(avgdf1['Rating'],2),\n",
    "    marker=dict(\n",
    "        color=avgdf1['Rating'],\n",
    "        colorscale = 'RdBu')\n",
    ")\n",
    "\n",
    "trace2 = go.Bar(\n",
    "    x=df1.index,\n",
    "    y=df1.Rating,\n",
    "    marker=dict(\n",
    "        color=df1['Rating'],\n",
    "        colorscale = 'RdBu')\n",
    ")\n",
    "\n",
    "trace3 = go.Bar(\n",
    "    x=avgdf2.index,\n",
    "    y=round(avgdf2['Age'],2),\n",
    "    marker=dict(\n",
    "        color=avgdf2['Age'],\n",
    "        colorscale = 'RdBu')\n",
    ")\n",
    "\n",
    "trace4 = go.Bar(\n",
    "    x=avgdf3.index,\n",
    "    y=round(avgdf3['Age'],2),\n",
    "    marker=dict(\n",
    "        color=avgdf3['Age'],\n",
    "        colorscale = 'Reds')\n",
    ")\n",
    "\n",
    "fig = tools.make_subplots(rows=2, cols=2)\n",
    "\n",
    "fig.append_trace(trace1, 1, 1)\n",
    "fig.append_trace(trace2, 1, 2)\n",
    "fig.append_trace(trace3, 2, 1)\n",
    "fig.append_trace(trace4, 2, 2)\n",
    "\n",
    "fig['layout']['xaxis1'].update(title='Class')\n",
    "fig['layout']['yaxis1'].update(title='Average Rating')\n",
    "fig['layout']['xaxis2'].update(title='Rating')\n",
    "fig['layout']['yaxis2'].update(title='Count')\n",
    "fig['layout']['xaxis3'].update(title='Class')\n",
    "fig['layout']['yaxis3'].update(title='Average Age of the Reviewers')\n",
    "fig['layout']['xaxis4'].update(title='Rating')\n",
    "fig['layout']['yaxis4'].update(title='Average Age of the Reviewers')\n",
    "\n",
    "fig['layout'].update(height=800, width=900,showlegend=False)\n",
    "py.iplot(fig)"
   ]
  },
  {
   "cell_type": "code",
   "execution_count": 54,
   "metadata": {
    "_uuid": "fbf76a6f3e33e712706170704857fd44634571fb"
   },
   "outputs": [
    {
     "data": {
      "application/vnd.plotly.v1+json": {
       "data": [
        {
         "hoverinfo": "text",
         "marker": {
          "color": [
           4.154020019373587,
           4.5,
           4,
           4.150815002373793,
           4.260909090909091,
           4.279220779220779,
           4.295454545454546,
           4.360941586748038,
           4.161676646706587,
           4.376712328767123,
           4.278787878787878,
           4.301013024602026,
           4.198170731707317,
           4.265850144092219,
           4.255520504731861,
           4.245502645502645,
           4.285087719298246,
           4.179271708683474,
           4.1971428571428575,
           3.8151260504201683
          ],
          "size": 10
         },
         "mode": "markers",
         "text": [
          "Class: Blouses \\ Average Rating: 4.15 \\ Number of Sales: 6319",
          "Class: Casual bottoms \\ Average Rating: 4.5 \\ Number of Sales: 4843",
          "Class: Chemises \\ Average Rating: 4.0 \\ Number of Sales: 3097",
          "Class: Dresses \\ Average Rating: 4.15 \\ Number of Sales: 1428",
          "Class: Fine gauge \\ Average Rating: 4.26 \\ Number of Sales: 1388",
          "Class: Intimates \\ Average Rating: 4.28 \\ Number of Sales: 1147",
          "Class: Jackets \\ Average Rating: 4.3 \\ Number of Sales: 1100",
          "Class: Jeans \\ Average Rating: 4.36 \\ Number of Sales: 945",
          "Class: Knits \\ Average Rating: 4.16 \\ Number of Sales: 704",
          "Class: Layering \\ Average Rating: 4.38 \\ Number of Sales: 691",
          "Class: Legwear \\ Average Rating: 4.28 \\ Number of Sales: 350",
          "Class: Lounge \\ Average Rating: 4.3 \\ Number of Sales: 328",
          "Class: Outerwear \\ Average Rating: 4.2 \\ Number of Sales: 317",
          "Class: Pants \\ Average Rating: 4.27 \\ Number of Sales: 228",
          "Class: Shorts \\ Average Rating: 4.26 \\ Number of Sales: 165",
          "Class: Skirts \\ Average Rating: 4.25 \\ Number of Sales: 154",
          "Class: Sleep \\ Average Rating: 4.29 \\ Number of Sales: 146",
          "Class: Sweaters \\ Average Rating: 4.18 \\ Number of Sales: 119",
          "Class: Swim \\ Average Rating: 4.2 \\ Number of Sales: 2",
          "Class: Trend \\ Average Rating: 3.82 \\ Number of Sales: 1"
         ],
         "type": "scatter3d",
         "uid": "446dee0a-d357-11e8-82f1-441ca89a596a",
         "x": [
          "Blouses",
          "Casual bottoms",
          "Chemises",
          "Dresses",
          "Fine gauge",
          "Intimates",
          "Jackets",
          "Jeans",
          "Knits",
          "Layering",
          "Legwear",
          "Lounge",
          "Outerwear",
          "Pants",
          "Shorts",
          "Skirts",
          "Sleep",
          "Sweaters",
          "Swim",
          "Trend"
         ],
         "y": [
          4.154020019373587,
          4.5,
          4,
          4.150815002373793,
          4.260909090909091,
          4.279220779220779,
          4.295454545454546,
          4.360941586748038,
          4.161676646706587,
          4.376712328767123,
          4.278787878787878,
          4.301013024602026,
          4.198170731707317,
          4.265850144092219,
          4.255520504731861,
          4.245502645502645,
          4.285087719298246,
          4.179271708683474,
          4.1971428571428575,
          3.8151260504201683
         ],
         "z": [
          6319,
          4843,
          3097,
          1428,
          1388,
          1147,
          1100,
          945,
          704,
          691,
          350,
          328,
          317,
          228,
          165,
          154,
          146,
          119,
          2,
          1
         ]
        }
       ],
       "layout": {
        "margin": {
         "b": 30,
         "l": 30,
         "r": 30,
         "t": 30
        },
        "scene": {
         "xaxis": {
          "title": "Class"
         },
         "yaxis": {
          "title": "Average Rating"
         },
         "zaxis": {
          "title": "Number of Sales"
         }
        },
        "title": "Average Rating & Class & Number of Sales"
       }
      },
      "text/html": [
       "<div id=\"28dd226e-02ce-4338-b546-893bd2c712e9\" style=\"height: 525px; width: 100%;\" class=\"plotly-graph-div\"></div><script type=\"text/javascript\">require([\"plotly\"], function(Plotly) { window.PLOTLYENV=window.PLOTLYENV || {};window.PLOTLYENV.BASE_URL=\"https://plot.ly\";Plotly.newPlot(\"28dd226e-02ce-4338-b546-893bd2c712e9\", [{\"hoverinfo\": \"text\", \"marker\": {\"color\": [4.154020019373587, 4.5, 4.0, 4.150815002373793, 4.260909090909091, 4.279220779220779, 4.295454545454546, 4.360941586748038, 4.161676646706587, 4.376712328767123, 4.278787878787878, 4.301013024602026, 4.198170731707317, 4.265850144092219, 4.255520504731861, 4.245502645502645, 4.285087719298246, 4.179271708683474, 4.1971428571428575, 3.8151260504201683], \"size\": 10}, \"mode\": \"markers\", \"text\": [\"Class: Blouses \\\\ Average Rating: 4.15 \\\\ Number of Sales: 6319\", \"Class: Casual bottoms \\\\ Average Rating: 4.5 \\\\ Number of Sales: 4843\", \"Class: Chemises \\\\ Average Rating: 4.0 \\\\ Number of Sales: 3097\", \"Class: Dresses \\\\ Average Rating: 4.15 \\\\ Number of Sales: 1428\", \"Class: Fine gauge \\\\ Average Rating: 4.26 \\\\ Number of Sales: 1388\", \"Class: Intimates \\\\ Average Rating: 4.28 \\\\ Number of Sales: 1147\", \"Class: Jackets \\\\ Average Rating: 4.3 \\\\ Number of Sales: 1100\", \"Class: Jeans \\\\ Average Rating: 4.36 \\\\ Number of Sales: 945\", \"Class: Knits \\\\ Average Rating: 4.16 \\\\ Number of Sales: 704\", \"Class: Layering \\\\ Average Rating: 4.38 \\\\ Number of Sales: 691\", \"Class: Legwear \\\\ Average Rating: 4.28 \\\\ Number of Sales: 350\", \"Class: Lounge \\\\ Average Rating: 4.3 \\\\ Number of Sales: 328\", \"Class: Outerwear \\\\ Average Rating: 4.2 \\\\ Number of Sales: 317\", \"Class: Pants \\\\ Average Rating: 4.27 \\\\ Number of Sales: 228\", \"Class: Shorts \\\\ Average Rating: 4.26 \\\\ Number of Sales: 165\", \"Class: Skirts \\\\ Average Rating: 4.25 \\\\ Number of Sales: 154\", \"Class: Sleep \\\\ Average Rating: 4.29 \\\\ Number of Sales: 146\", \"Class: Sweaters \\\\ Average Rating: 4.18 \\\\ Number of Sales: 119\", \"Class: Swim \\\\ Average Rating: 4.2 \\\\ Number of Sales: 2\", \"Class: Trend \\\\ Average Rating: 3.82 \\\\ Number of Sales: 1\"], \"x\": [\"Blouses\", \"Casual bottoms\", \"Chemises\", \"Dresses\", \"Fine gauge\", \"Intimates\", \"Jackets\", \"Jeans\", \"Knits\", \"Layering\", \"Legwear\", \"Lounge\", \"Outerwear\", \"Pants\", \"Shorts\", \"Skirts\", \"Sleep\", \"Sweaters\", \"Swim\", \"Trend\"], \"y\": [4.154020019373587, 4.5, 4.0, 4.150815002373793, 4.260909090909091, 4.279220779220779, 4.295454545454546, 4.360941586748038, 4.161676646706587, 4.376712328767123, 4.278787878787878, 4.301013024602026, 4.198170731707317, 4.265850144092219, 4.255520504731861, 4.245502645502645, 4.285087719298246, 4.179271708683474, 4.1971428571428575, 3.8151260504201683], \"z\": [6319, 4843, 3097, 1428, 1388, 1147, 1100, 945, 704, 691, 350, 328, 317, 228, 165, 154, 146, 119, 2, 1], \"type\": \"scatter3d\", \"uid\": \"446dee0a-d357-11e8-82f1-441ca89a596a\"}], {\"margin\": {\"b\": 30, \"l\": 30, \"r\": 30, \"t\": 30}, \"scene\": {\"xaxis\": {\"title\": \"Class\"}, \"yaxis\": {\"title\": \"Average Rating\"}, \"zaxis\": {\"title\": \"Number of Sales\"}}, \"title\": \"Average Rating & Class & Number of Sales\"}, {\"showLink\": true, \"linkText\": \"Export to plot.ly\"})});</script>"
      ],
      "text/vnd.plotly.v1+html": [
       "<div id=\"28dd226e-02ce-4338-b546-893bd2c712e9\" style=\"height: 525px; width: 100%;\" class=\"plotly-graph-div\"></div><script type=\"text/javascript\">require([\"plotly\"], function(Plotly) { window.PLOTLYENV=window.PLOTLYENV || {};window.PLOTLYENV.BASE_URL=\"https://plot.ly\";Plotly.newPlot(\"28dd226e-02ce-4338-b546-893bd2c712e9\", [{\"hoverinfo\": \"text\", \"marker\": {\"color\": [4.154020019373587, 4.5, 4.0, 4.150815002373793, 4.260909090909091, 4.279220779220779, 4.295454545454546, 4.360941586748038, 4.161676646706587, 4.376712328767123, 4.278787878787878, 4.301013024602026, 4.198170731707317, 4.265850144092219, 4.255520504731861, 4.245502645502645, 4.285087719298246, 4.179271708683474, 4.1971428571428575, 3.8151260504201683], \"size\": 10}, \"mode\": \"markers\", \"text\": [\"Class: Blouses \\\\ Average Rating: 4.15 \\\\ Number of Sales: 6319\", \"Class: Casual bottoms \\\\ Average Rating: 4.5 \\\\ Number of Sales: 4843\", \"Class: Chemises \\\\ Average Rating: 4.0 \\\\ Number of Sales: 3097\", \"Class: Dresses \\\\ Average Rating: 4.15 \\\\ Number of Sales: 1428\", \"Class: Fine gauge \\\\ Average Rating: 4.26 \\\\ Number of Sales: 1388\", \"Class: Intimates \\\\ Average Rating: 4.28 \\\\ Number of Sales: 1147\", \"Class: Jackets \\\\ Average Rating: 4.3 \\\\ Number of Sales: 1100\", \"Class: Jeans \\\\ Average Rating: 4.36 \\\\ Number of Sales: 945\", \"Class: Knits \\\\ Average Rating: 4.16 \\\\ Number of Sales: 704\", \"Class: Layering \\\\ Average Rating: 4.38 \\\\ Number of Sales: 691\", \"Class: Legwear \\\\ Average Rating: 4.28 \\\\ Number of Sales: 350\", \"Class: Lounge \\\\ Average Rating: 4.3 \\\\ Number of Sales: 328\", \"Class: Outerwear \\\\ Average Rating: 4.2 \\\\ Number of Sales: 317\", \"Class: Pants \\\\ Average Rating: 4.27 \\\\ Number of Sales: 228\", \"Class: Shorts \\\\ Average Rating: 4.26 \\\\ Number of Sales: 165\", \"Class: Skirts \\\\ Average Rating: 4.25 \\\\ Number of Sales: 154\", \"Class: Sleep \\\\ Average Rating: 4.29 \\\\ Number of Sales: 146\", \"Class: Sweaters \\\\ Average Rating: 4.18 \\\\ Number of Sales: 119\", \"Class: Swim \\\\ Average Rating: 4.2 \\\\ Number of Sales: 2\", \"Class: Trend \\\\ Average Rating: 3.82 \\\\ Number of Sales: 1\"], \"x\": [\"Blouses\", \"Casual bottoms\", \"Chemises\", \"Dresses\", \"Fine gauge\", \"Intimates\", \"Jackets\", \"Jeans\", \"Knits\", \"Layering\", \"Legwear\", \"Lounge\", \"Outerwear\", \"Pants\", \"Shorts\", \"Skirts\", \"Sleep\", \"Sweaters\", \"Swim\", \"Trend\"], \"y\": [4.154020019373587, 4.5, 4.0, 4.150815002373793, 4.260909090909091, 4.279220779220779, 4.295454545454546, 4.360941586748038, 4.161676646706587, 4.376712328767123, 4.278787878787878, 4.301013024602026, 4.198170731707317, 4.265850144092219, 4.255520504731861, 4.245502645502645, 4.285087719298246, 4.179271708683474, 4.1971428571428575, 3.8151260504201683], \"z\": [6319, 4843, 3097, 1428, 1388, 1147, 1100, 945, 704, 691, 350, 328, 317, 228, 165, 154, 146, 119, 2, 1], \"type\": \"scatter3d\", \"uid\": \"446dee0a-d357-11e8-82f1-441ca89a596a\"}], {\"margin\": {\"b\": 30, \"l\": 30, \"r\": 30, \"t\": 30}, \"scene\": {\"xaxis\": {\"title\": \"Class\"}, \"yaxis\": {\"title\": \"Average Rating\"}, \"zaxis\": {\"title\": \"Number of Sales\"}}, \"title\": \"Average Rating & Class & Number of Sales\"}, {\"showLink\": true, \"linkText\": \"Export to plot.ly\"})});</script>"
      ]
     },
     "metadata": {},
     "output_type": "display_data"
    },
    {
     "data": {
      "text/plain": [
       "<matplotlib.figure.Figure at 0x183928fa6d8>"
      ]
     },
     "metadata": {},
     "output_type": "display_data"
    }
   ],
   "source": [
    "cv = df['Class Name'].value_counts()\n",
    "\n",
    "trace = go.Scatter3d( x = avgdf1.index,\n",
    "                      y = avgdf1['Rating'],\n",
    "                      z = cv,\n",
    "                      mode = 'markers',\n",
    "                      marker = dict(size=10,color=avgdf1['Rating']),\n",
    "                      hoverinfo =\"text\",\n",
    "                      text=\"Class: \"+avgdf1.index+\" \\ Average Rating: \"+round(avgdf1['Rating'],2).apply(str)+\" \\ Number of Sales: \"+cv.apply(str)\n",
    "                      )\n",
    "\n",
    "data = [trace]\n",
    "layout = go.Layout(title=\"Average Rating & Class & Number of Sales\",\n",
    "                   scene = dict(\n",
    "                    xaxis = dict(title='Class'),\n",
    "                    yaxis = dict(title='Average Rating'),\n",
    "                    zaxis = dict(title='Number of Sales'),),\n",
    "                   margin = dict(l=30, r=30, b=30, t=30))\n",
    "fig = go.Figure(data=data, layout=layout)\n",
    "py.iplot(fig)\n",
    "plt.savefig('3D_Scatter.png')"
   ]
  },
  {
   "cell_type": "code",
   "execution_count": 55,
   "metadata": {
    "_uuid": "ef4e5b9dac84bbbb9bf3a08b5e63e75a70514dfe"
   },
   "outputs": [
    {
     "data": {
      "text/html": [
       "<div>\n",
       "<style scoped>\n",
       "    .dataframe tbody tr th:only-of-type {\n",
       "        vertical-align: middle;\n",
       "    }\n",
       "\n",
       "    .dataframe tbody tr th {\n",
       "        vertical-align: top;\n",
       "    }\n",
       "\n",
       "    .dataframe thead th {\n",
       "        text-align: right;\n",
       "    }\n",
       "</style>\n",
       "<table border=\"1\" class=\"dataframe\">\n",
       "  <thead>\n",
       "    <tr style=\"text-align: right;\">\n",
       "      <th></th>\n",
       "      <th>Review Text</th>\n",
       "      <th>Rating</th>\n",
       "      <th>Class Name</th>\n",
       "      <th>Age</th>\n",
       "      <th>Word Counts</th>\n",
       "      <th>Sentiment</th>\n",
       "    </tr>\n",
       "  </thead>\n",
       "  <tbody>\n",
       "    <tr>\n",
       "      <th>0</th>\n",
       "      <td>Absolutely wonderful - silky and sexy and comf...</td>\n",
       "      <td>4</td>\n",
       "      <td>Intimates</td>\n",
       "      <td>33</td>\n",
       "      <td>{'absolutely': 1, 'and': 2, 'comfortable': 1, ...</td>\n",
       "      <td>True</td>\n",
       "    </tr>\n",
       "    <tr>\n",
       "      <th>1</th>\n",
       "      <td>Love this dress!  it's sooo pretty.  i happene...</td>\n",
       "      <td>5</td>\n",
       "      <td>Dresses</td>\n",
       "      <td>34</td>\n",
       "      <td>{'am': 1, 'and': 2, 'bc': 2, 'be': 1, 'below':...</td>\n",
       "      <td>True</td>\n",
       "    </tr>\n",
       "    <tr>\n",
       "      <th>3</th>\n",
       "      <td>I love, love, love this jumpsuit. it's fun, fl...</td>\n",
       "      <td>5</td>\n",
       "      <td>Pants</td>\n",
       "      <td>50</td>\n",
       "      <td>{'and': 1, 'but': 1, 'compliments': 1, 'every'...</td>\n",
       "      <td>True</td>\n",
       "    </tr>\n",
       "    <tr>\n",
       "      <th>4</th>\n",
       "      <td>This shirt is very flattering to all due to th...</td>\n",
       "      <td>5</td>\n",
       "      <td>Blouses</td>\n",
       "      <td>47</td>\n",
       "      <td>{'adjustable': 1, 'all': 1, 'and': 1, 'any': 1...</td>\n",
       "      <td>True</td>\n",
       "    </tr>\n",
       "    <tr>\n",
       "      <th>5</th>\n",
       "      <td>I love tracy reese dresses, but this one is no...</td>\n",
       "      <td>2</td>\n",
       "      <td>Dresses</td>\n",
       "      <td>49</td>\n",
       "      <td>{'0p': 1, 'alterations': 1, 'am': 1, 'and': 4,...</td>\n",
       "      <td>False</td>\n",
       "    </tr>\n",
       "  </tbody>\n",
       "</table>\n",
       "</div>"
      ],
      "text/plain": [
       "                                         Review Text  Rating Class Name  Age  \\\n",
       "0  Absolutely wonderful - silky and sexy and comf...       4  Intimates   33   \n",
       "1  Love this dress!  it's sooo pretty.  i happene...       5    Dresses   34   \n",
       "3  I love, love, love this jumpsuit. it's fun, fl...       5      Pants   50   \n",
       "4  This shirt is very flattering to all due to th...       5    Blouses   47   \n",
       "5  I love tracy reese dresses, but this one is no...       2    Dresses   49   \n",
       "\n",
       "                                         Word Counts  Sentiment  \n",
       "0  {'absolutely': 1, 'and': 2, 'comfortable': 1, ...       True  \n",
       "1  {'am': 1, 'and': 2, 'bc': 2, 'be': 1, 'below':...       True  \n",
       "3  {'and': 1, 'but': 1, 'compliments': 1, 'every'...       True  \n",
       "4  {'adjustable': 1, 'all': 1, 'and': 1, 'any': 1...       True  \n",
       "5  {'0p': 1, 'alterations': 1, 'am': 1, 'and': 4,...      False  "
      ]
     },
     "execution_count": 55,
     "metadata": {},
     "output_type": "execute_result"
    }
   ],
   "source": [
    "# Rating of 4 or higher -> positive, while the ones with \n",
    "# Rating of 2 or lower -> negative \n",
    "# Rating of 3 -> neutral\n",
    "df = df[df['Rating'] != 3]\n",
    "df['Sentiment'] = df['Rating'] >=4\n",
    "df.head()"
   ]
  },
  {
   "cell_type": "code",
   "execution_count": 56,
   "metadata": {
    "_uuid": "d3881d6a5bae0beca292e9db591f7695d04a4575",
    "scrolled": true
   },
   "outputs": [
    {
     "name": "stderr",
     "output_type": "stream",
     "text": [
      "C:\\Users\\Nancy\\AnacondaNew\\lib\\site-packages\\sklearn\\model_selection\\_split.py:2026: FutureWarning:\n",
      "\n",
      "From version 0.21, test_size will always complement train_size unless both are specified.\n",
      "\n"
     ]
    }
   ],
   "source": [
    "# splitting data\n",
    "train_data,test_data = train_test_split(df,train_size=0.8,random_state=0)\n",
    "X = vectorizer.fit_transform(train_data['Review Text'])\n",
    "y = train_data['Sentiment']"
   ]
  },
  {
   "cell_type": "markdown",
   "metadata": {
    "_uuid": "dd935dbe4f4fdbd0a721695bffb72c2778b16690"
   },
   "source": [
    "## <a id=\"5\"></a> Logistic Regression\n"
   ]
  },
  {
   "cell_type": "code",
   "execution_count": 57,
   "metadata": {
    "_uuid": "b78e37c89e02fd1dea22b87509dc871f5ad973c6"
   },
   "outputs": [
    {
     "data": {
      "text/plain": [
       "LogisticRegression(C=1.0, class_weight=None, dual=False, fit_intercept=True,\n",
       "          intercept_scaling=1, max_iter=100, multi_class='ovr', n_jobs=1,\n",
       "          penalty='l2', random_state=None, solver='liblinear', tol=0.0001,\n",
       "          verbose=0, warm_start=False)"
      ]
     },
     "execution_count": 57,
     "metadata": {},
     "output_type": "execute_result"
    }
   ],
   "source": [
    "lr = LogisticRegression()\n",
    "lr.fit(X,y)"
   ]
  },
  {
   "cell_type": "markdown",
   "metadata": {
    "_uuid": "ad4bd4a855ddc670eedf280b3a81efa9a57d470e"
   },
   "source": [
    "## <a id=\"6\"></a> Naive Bayes"
   ]
  },
  {
   "cell_type": "code",
   "execution_count": 58,
   "metadata": {
    "_uuid": "4715c54fec338f8017b2f5597490c9a16ce4f101"
   },
   "outputs": [
    {
     "data": {
      "text/plain": [
       "MultinomialNB(alpha=1.0, class_prior=None, fit_prior=True)"
      ]
     },
     "execution_count": 58,
     "metadata": {},
     "output_type": "execute_result"
    }
   ],
   "source": [
    "nb = MultinomialNB()\n",
    "nb.fit(X,y)"
   ]
  },
  {
   "cell_type": "markdown",
   "metadata": {
    "_uuid": "daaf5d10642b2ba0e89846091f7a6b4a1de4252b"
   },
   "source": [
    "## <a id=\"7\"></a> Support Vector Machine (SVM)"
   ]
  },
  {
   "cell_type": "code",
   "execution_count": 59,
   "metadata": {
    "_uuid": "ab7e1fcbe45995e034124b97ae5d2674554abd66"
   },
   "outputs": [
    {
     "data": {
      "text/plain": [
       "SVC(C=1.0, cache_size=200, class_weight=None, coef0=0.0,\n",
       "  decision_function_shape='ovr', degree=3, gamma='auto', kernel='rbf',\n",
       "  max_iter=-1, probability=False, random_state=None, shrinking=True,\n",
       "  tol=0.001, verbose=False)"
      ]
     },
     "execution_count": 59,
     "metadata": {},
     "output_type": "execute_result"
    }
   ],
   "source": [
    "svm = SVC()\n",
    "svm.fit(X,y)"
   ]
  },
  {
   "cell_type": "markdown",
   "metadata": {
    "_uuid": "048d88c13016a4f8a39d1427c3eeaf01d8a4f2b9"
   },
   "source": [
    "## <a id=\"8\"></a> Neural Network"
   ]
  },
  {
   "cell_type": "code",
   "execution_count": 60,
   "metadata": {
    "_uuid": "3dfb24752703bcadb607fe5bd43026941b41a65a"
   },
   "outputs": [
    {
     "data": {
      "text/plain": [
       "MLPClassifier(activation='relu', alpha=0.0001, batch_size='auto', beta_1=0.9,\n",
       "       beta_2=0.999, early_stopping=False, epsilon=1e-08,\n",
       "       hidden_layer_sizes=(100,), learning_rate='constant',\n",
       "       learning_rate_init=0.001, max_iter=200, momentum=0.9,\n",
       "       nesterovs_momentum=True, power_t=0.5, random_state=None,\n",
       "       shuffle=True, solver='adam', tol=0.0001, validation_fraction=0.1,\n",
       "       verbose=False, warm_start=False)"
      ]
     },
     "execution_count": 60,
     "metadata": {},
     "output_type": "execute_result"
    }
   ],
   "source": [
    "nn = MLPClassifier()\n",
    "nn.fit(X,y)"
   ]
  },
  {
   "cell_type": "markdown",
   "metadata": {
    "_uuid": "e37a1b005158073c90e0813313a15428aefb0f02"
   },
   "source": [
    "# <a id=\"9\"></a> Evaluating Models"
   ]
  },
  {
   "cell_type": "markdown",
   "metadata": {
    "_uuid": "c5e0df1e9c4fc2e9b6c00c57d5b8be355be89b7e"
   },
   "source": [
    "## <a id=\"10\"></a> Adding Results to the Dataframe\n"
   ]
  },
  {
   "cell_type": "markdown",
   "metadata": {
    "_uuid": "7550e005914243acf6e7928fe76e3e67cae3ae64"
   },
   "source": [
    "The results show the probabilies obtained by the used models. If the probability is bigger than 0.5, it means that the *Sentiment * is ***True (Positive)***; if not, the *Sentiment* is ***False (negative)***."
   ]
  },
  {
   "cell_type": "code",
   "execution_count": 61,
   "metadata": {
    "_uuid": "268d92918c01136e0222364060abf37d91422849"
   },
   "outputs": [
    {
     "data": {
      "text/html": [
       "<div>\n",
       "<style scoped>\n",
       "    .dataframe tbody tr th:only-of-type {\n",
       "        vertical-align: middle;\n",
       "    }\n",
       "\n",
       "    .dataframe tbody tr th {\n",
       "        vertical-align: top;\n",
       "    }\n",
       "\n",
       "    .dataframe thead th {\n",
       "        text-align: right;\n",
       "    }\n",
       "</style>\n",
       "<table border=\"1\" class=\"dataframe\">\n",
       "  <thead>\n",
       "    <tr style=\"text-align: right;\">\n",
       "      <th></th>\n",
       "      <th>Review Text</th>\n",
       "      <th>Rating</th>\n",
       "      <th>Class Name</th>\n",
       "      <th>Age</th>\n",
       "      <th>Word Counts</th>\n",
       "      <th>Sentiment</th>\n",
       "      <th>Logistic Regression</th>\n",
       "      <th>Naive Bayes</th>\n",
       "      <th>Neural Network</th>\n",
       "    </tr>\n",
       "  </thead>\n",
       "  <tbody>\n",
       "    <tr>\n",
       "      <th>0</th>\n",
       "      <td>Absolutely wonderful - silky and sexy and comf...</td>\n",
       "      <td>4</td>\n",
       "      <td>Intimates</td>\n",
       "      <td>33</td>\n",
       "      <td>{'absolutely': 1, 'and': 2, 'comfortable': 1, ...</td>\n",
       "      <td>True</td>\n",
       "      <td>0.95</td>\n",
       "      <td>0.97</td>\n",
       "      <td>1.0</td>\n",
       "    </tr>\n",
       "    <tr>\n",
       "      <th>1</th>\n",
       "      <td>Love this dress!  it's sooo pretty.  i happene...</td>\n",
       "      <td>5</td>\n",
       "      <td>Dresses</td>\n",
       "      <td>34</td>\n",
       "      <td>{'am': 1, 'and': 2, 'bc': 2, 'be': 1, 'below':...</td>\n",
       "      <td>True</td>\n",
       "      <td>0.96</td>\n",
       "      <td>0.99</td>\n",
       "      <td>1.0</td>\n",
       "    </tr>\n",
       "    <tr>\n",
       "      <th>3</th>\n",
       "      <td>I love, love, love this jumpsuit. it's fun, fl...</td>\n",
       "      <td>5</td>\n",
       "      <td>Pants</td>\n",
       "      <td>50</td>\n",
       "      <td>{'and': 1, 'but': 1, 'compliments': 1, 'every'...</td>\n",
       "      <td>True</td>\n",
       "      <td>0.83</td>\n",
       "      <td>0.79</td>\n",
       "      <td>1.0</td>\n",
       "    </tr>\n",
       "    <tr>\n",
       "      <th>4</th>\n",
       "      <td>This shirt is very flattering to all due to th...</td>\n",
       "      <td>5</td>\n",
       "      <td>Blouses</td>\n",
       "      <td>47</td>\n",
       "      <td>{'adjustable': 1, 'all': 1, 'and': 1, 'any': 1...</td>\n",
       "      <td>True</td>\n",
       "      <td>1.00</td>\n",
       "      <td>1.00</td>\n",
       "      <td>1.0</td>\n",
       "    </tr>\n",
       "    <tr>\n",
       "      <th>5</th>\n",
       "      <td>I love tracy reese dresses, but this one is no...</td>\n",
       "      <td>2</td>\n",
       "      <td>Dresses</td>\n",
       "      <td>49</td>\n",
       "      <td>{'0p': 1, 'alterations': 1, 'am': 1, 'and': 4,...</td>\n",
       "      <td>False</td>\n",
       "      <td>0.93</td>\n",
       "      <td>0.02</td>\n",
       "      <td>1.0</td>\n",
       "    </tr>\n",
       "  </tbody>\n",
       "</table>\n",
       "</div>"
      ],
      "text/plain": [
       "                                         Review Text  Rating Class Name  Age  \\\n",
       "0  Absolutely wonderful - silky and sexy and comf...       4  Intimates   33   \n",
       "1  Love this dress!  it's sooo pretty.  i happene...       5    Dresses   34   \n",
       "3  I love, love, love this jumpsuit. it's fun, fl...       5      Pants   50   \n",
       "4  This shirt is very flattering to all due to th...       5    Blouses   47   \n",
       "5  I love tracy reese dresses, but this one is no...       2    Dresses   49   \n",
       "\n",
       "                                         Word Counts  Sentiment  \\\n",
       "0  {'absolutely': 1, 'and': 2, 'comfortable': 1, ...       True   \n",
       "1  {'am': 1, 'and': 2, 'bc': 2, 'be': 1, 'below':...       True   \n",
       "3  {'and': 1, 'but': 1, 'compliments': 1, 'every'...       True   \n",
       "4  {'adjustable': 1, 'all': 1, 'and': 1, 'any': 1...       True   \n",
       "5  {'0p': 1, 'alterations': 1, 'am': 1, 'and': 4,...      False   \n",
       "\n",
       "   Logistic Regression  Naive Bayes  Neural Network  \n",
       "0                 0.95         0.97             1.0  \n",
       "1                 0.96         0.99             1.0  \n",
       "3                 0.83         0.79             1.0  \n",
       "4                 1.00         1.00             1.0  \n",
       "5                 0.93         0.02             1.0  "
      ]
     },
     "execution_count": 61,
     "metadata": {},
     "output_type": "execute_result"
    }
   ],
   "source": [
    "df1=pd.DataFrame({'Logistic Regression':lr.predict_proba(X)[:,1], 'Naive Bayes':nb.predict_proba(X)[:,1],\n",
    "                  'SVM':svm.decision_function(X),'Neural Network':nn.predict_proba(X)[:,1]})\n",
    "df['Logistic Regression']=round(df1['Logistic Regression'],2)\n",
    "df['Naive Bayes']=round(df1['Naive Bayes'],2)\n",
    "df['Neural Network']=round(df1['Neural Network'],2)\n",
    "df.head()"
   ]
  },
  {
   "cell_type": "markdown",
   "metadata": {
    "_uuid": "0ca48e96a1af34602deeed24ee1df8c09b5f0012"
   },
   "source": [
    "## <a id=\"11\"></a> ROC Curves and AUC\n"
   ]
  },
  {
   "cell_type": "code",
   "execution_count": 62,
   "metadata": {
    "_uuid": "967355c906e983f36af66b7cc3b6fb43f2447e7c"
   },
   "outputs": [
    {
     "data": {
      "text/plain": [
       "<matplotlib.legend.Legend at 0x183f6cbb630>"
      ]
     },
     "execution_count": 62,
     "metadata": {},
     "output_type": "execute_result"
    },
    {
     "data": {
      "image/png": "[encoded data removed]",
      "text/plain": [
       "<matplotlib.figure.Figure at 0x183f7e40fd0>"
      ]
     },
     "metadata": {},
     "output_type": "display_data"
    }
   ],
   "source": [
    "pred_lr = lr.predict_proba(vectorizer.transform(test_data['Review Text']))[:,1]\n",
    "fpr_lr,tpr_lr,_ = roc_curve(test_data['Sentiment'].values,pred_lr)\n",
    "roc_auc_lr = auc(fpr_lr,tpr_lr)\n",
    "\n",
    "pred_nb = nb.predict_proba(vectorizer.transform(test_data['Review Text']))[:,1]\n",
    "fpr_nb,tpr_nb,_ = roc_curve(test_data['Sentiment'].values,pred_nb)\n",
    "roc_auc_nb = auc(fpr_nb,tpr_nb)\n",
    "\n",
    "pred_svm = svm.decision_function(vectorizer.transform(test_data['Review Text']))\n",
    "fpr_svm,tpr_svm,_ = roc_curve(test_data['Sentiment'].values,pred_svm)\n",
    "roc_auc_svm = auc(fpr_svm,tpr_svm)\n",
    "\n",
    "pred_nn = nn.predict_proba(vectorizer.transform(test_data['Review Text']))[:,1]\n",
    "fpr_nn,tpr_nn,_ = roc_curve(test_data['Sentiment'].values,pred_nn)\n",
    "roc_auc_nn = auc(fpr_nn,tpr_nn)\n",
    "\n",
    "f, axes = plt.subplots(2, 2,figsize=(15,10))\n",
    "axes[0,0].plot(fpr_lr, tpr_lr, color='darkred', lw=2, label='ROC curve (area = {:0.2f})'.format(roc_auc_lr))\n",
    "axes[0,0].plot([0, 1], [0, 1], color='navy', lw=2, linestyle='--')\n",
    "axes[0,0].set(xlim=[-0.01, 1.0], ylim=[-0.01, 1.05])\n",
    "axes[0,0].set(xlabel ='False Positive Rate', ylabel = 'True Positive Rate', title = 'Logistic Regression')\n",
    "axes[0,0].legend(loc='lower right', fontsize=13)\n",
    "\n",
    "axes[0,1].plot(fpr_nb, tpr_nb, color='darkred', lw=2, label='ROC curve (area = {:0.2f})'.format(roc_auc_nb))\n",
    "axes[0,1].plot([0, 1], [0, 1], color='navy', lw=2, linestyle='--')\n",
    "axes[0,1].set(xlim=[-0.01, 1.0], ylim=[-0.01, 1.05])\n",
    "axes[0,1].set(xlabel ='False Positive Rate', ylabel = 'True Positive Rate', title = 'Naive Bayes')\n",
    "axes[0,1].legend(loc='lower right', fontsize=13)\n",
    "\n",
    "axes[1,0].plot(fpr_svm, tpr_svm, color='darkred', lw=2, label='ROC curve (area = {:0.2f})'.format(roc_auc_svm))\n",
    "axes[1,0].plot([0, 1], [0, 1], color='navy', lw=2, linestyle='--')\n",
    "axes[1,0].set(xlim=[-0.01, 1.0], ylim=[-0.01, 1.05])\n",
    "axes[1,0].set(xlabel ='False Positive Rate', ylabel = 'True Positive Rate', title = 'Support Vector Machine')\n",
    "axes[1,0].legend(loc='lower right', fontsize=13)\n",
    "\n",
    "axes[1,1].plot(fpr_nn, tpr_nn, color='darkred', lw=2, label='ROC curve (area = {:0.2f})'.format(roc_auc_nn))\n",
    "axes[1,1].plot([0, 1], [0, 1], color='navy', lw=2, linestyle='--')\n",
    "axes[1,1].set(xlim=[-0.01, 1.0], ylim=[-0.01, 1.05])\n",
    "axes[1,1].set(xlabel ='False Positive Rate', ylabel = 'True Positive Rate', title = 'Neural Network')\n",
    "axes[1,1].legend(loc='lower right', fontsize=13)"
   ]
  },
  {
   "cell_type": "markdown",
   "metadata": {
    "_uuid": "ef38d9393b73d3a1bf6f14b4094f54c634aaabb3"
   },
   "source": [
    "# <a id=\"12\"></a> Conclusion\n"
   ]
  },
  {
   "cell_type": "markdown",
   "metadata": {
    "_uuid": "527bf5e24b62b2993574a1ab64e2fa34c08bbd49"
   },
   "source": [
    "When we look at the  **AUC values**, **Naive Bayes** and **Logistic Regression** gives the best results.  Thus, both of them are very effective at predicting sentiment."
   ]
  }
 ],
 "metadata": {
  "kernelspec": {
   "display_name": "Python 3",
   "language": "python",
   "name": "python3"
  },
  "language_info": {
   "codemirror_mode": {
    "name": "ipython",
    "version": 3
   },
   "file_extension": ".py",
   "mimetype": "text/x-python",
   "name": "python",
   "nbconvert_exporter": "python",
   "pygments_lexer": "ipython3",
   "version": "3.6.4"
  }
 },
 "nbformat": 4,
 "nbformat_minor": 1
}
